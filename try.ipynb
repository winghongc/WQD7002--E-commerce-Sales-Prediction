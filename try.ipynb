{
 "cells": [
  {
   "cell_type": "code",
   "execution_count": 1,
   "metadata": {},
   "outputs": [
    {
     "name": "stdout",
     "output_type": "stream",
     "text": [
      "112\n"
     ]
    }
   ],
   "source": [
    "result = pow(233, 175, 323)\n",
    "print(result)"
   ]
  },
  {
   "cell_type": "code",
   "execution_count": 9,
   "metadata": {},
   "outputs": [
    {
     "name": "stdout",
     "output_type": "stream",
     "text": [
      "192\n"
     ]
    }
   ],
   "source": [
    "result = 1589892 % 757\n",
    "print(result)"
   ]
  },
  {
   "cell_type": "code",
   "execution_count": 25,
   "metadata": {},
   "outputs": [
    {
     "name": "stdout",
     "output_type": "stream",
     "text": [
      "276\n"
     ]
    }
   ],
   "source": [
    "def mod_exp(base, exponent, modulus):\n",
    "    result = 1\n",
    "    base = base % modulus  # Reduce the base modulo modulus\n",
    "    while exponent > 0:\n",
    "        # If exponent is odd, multiply result with base modulo modulus\n",
    "        if exponent % 2 == 1:\n",
    "            result = (result * base) % modulus\n",
    "        # exponent is even now\n",
    "        exponent = exponent // 2  # Divide exponent by 2\n",
    "        base = (base * base) % modulus  # Update base to base^2 modulo modulus\n",
    "    return result\n",
    "\n",
    "# Example usage\n",
    "result = mod_exp(21,161, 323)\n",
    "print(result)"
   ]
  },
  {
   "cell_type": "code",
   "execution_count": 26,
   "metadata": {},
   "outputs": [
    {
     "name": "stdout",
     "output_type": "stream",
     "text": [
      "The ciphertext in decimal value is: 226\n"
     ]
    }
   ],
   "source": [
    "def mod_exp(base, exp, modulus):\n",
    "    result = 1\n",
    "    base = base % modulus\n",
    "    while exp > 0:\n",
    "        if exp % 2 == 1:\n",
    "            result = (result * base) % modulus\n",
    "        exp = exp // 2\n",
    "        base = (base * base) % modulus\n",
    "    return result\n",
    "\n",
    "# Given parameters\n",
    "M = 786984\n",
    "n = 323\n",
    "e = 5\n",
    "\n",
    "# Calculate ciphertext C\n",
    "C = mod_exp(M, e, n)\n",
    "print(\"The ciphertext in decimal value is:\", C)"
   ]
  },
  {
   "cell_type": "code",
   "execution_count": 27,
   "metadata": {},
   "outputs": [
    {
     "ename": "ModuleNotFoundError",
     "evalue": "No module named 'Crypto'",
     "output_type": "error",
     "traceback": [
      "\u001b[1;31m---------------------------------------------------------------------------\u001b[0m",
      "\u001b[1;31mModuleNotFoundError\u001b[0m                       Traceback (most recent call last)",
      "Cell \u001b[1;32mIn[27], line 1\u001b[0m\n\u001b[1;32m----> 1\u001b[0m \u001b[38;5;28;01mfrom\u001b[39;00m \u001b[38;5;21;01mCrypto\u001b[39;00m\u001b[38;5;21;01m.\u001b[39;00m\u001b[38;5;21;01mPublicKey\u001b[39;00m \u001b[38;5;28;01mimport\u001b[39;00m RSA\n\u001b[0;32m      2\u001b[0m \u001b[38;5;28;01mfrom\u001b[39;00m \u001b[38;5;21;01mCrypto\u001b[39;00m\u001b[38;5;21;01m.\u001b[39;00m\u001b[38;5;21;01mCipher\u001b[39;00m \u001b[38;5;28;01mimport\u001b[39;00m PKCS1_OAEP\n\u001b[0;32m      4\u001b[0m \u001b[38;5;66;03m# Define RSA parameters\u001b[39;00m\n",
      "\u001b[1;31mModuleNotFoundError\u001b[0m: No module named 'Crypto'"
     ]
    }
   ],
   "source": [
    "from Crypto.PublicKey import RSA\n",
    "from Crypto.Cipher import PKCS1_OAEP\n",
    "\n",
    "# Define RSA parameters\n",
    "p = 17\n",
    "q = 19\n",
    "e = 5\n",
    "\n",
    "# Calculate n and phi(n)\n",
    "n = p * q\n",
    "phi_n = (p - 1) * (q - 1)\n",
    "\n",
    "# Calculate d (private key)\n",
    "d = pow(e, -1, phi_n)\n",
    "\n",
    "# Create RSA key object\n",
    "key = RSA.construct((n, e, d))\n",
    "\n",
    "# Encrypt the message \"RSA\"\n",
    "cipher = PKCS1_OAEP.new(key)\n",
    "plaintext = b\"RSA\"\n",
    "ciphertext = cipher.encrypt(plaintext)\n",
    "\n",
    "# Print the ciphertext in decimal format\n",
    "ciphertext_decimal = int.from_bytes(ciphertext, byteorder='big')\n",
    "print(\"Ciphertext in decimal value:\", ciphertext_decimal)\n",
    "\n",
    "# Decrypt the given ciphertext\n",
    "given_ciphertext = 786984\n",
    "cipher_given = PKCS1_OAEP.new(key)\n",
    "decrypted_given = cipher_given.decrypt(given_ciphertext.to_bytes((given_ciphertext.bit_length() + 7) // 8, byteorder='big'))\n",
    "\n",
    "# Print the decrypted plaintext\n",
    "print(\"Decrypted message:\", decrypted_given.decode())"
   ]
  },
  {
   "cell_type": "code",
   "execution_count": 11,
   "metadata": {},
   "outputs": [
    {
     "name": "stdout",
     "output_type": "stream",
     "text": [
      "Decrypted plaintext (ASCII character equivalent): \n"
     ]
    }
   ],
   "source": [
    "def decrypt(ciphertext, d, N):\n",
    "    plaintext = pow(ciphertext, d, N)\n",
    "    return plaintext\n",
    "\n",
    "ciphertext = 2190236\n",
    "d = 173\n",
    "N = 323\n",
    "\n",
    "plaintext_decimal = decrypt(ciphertext, d, N)\n",
    "plaintext = chr(plaintext_decimal)\n",
    "print(\"Decrypted plaintext (ASCII character equivalent):\", plaintext)"
   ]
  },
  {
   "cell_type": "code",
   "execution_count": 5,
   "metadata": {},
   "outputs": [
    {
     "name": "stdout",
     "output_type": "stream",
     "text": [
      "XA = 233\n"
     ]
    }
   ],
   "source": [
    "def mod_exp(base, exp, modulus):\n",
    "    result = 1\n",
    "    base = base % modulus\n",
    "    while exp > 0:\n",
    "        if exp % 2 == 1:\n",
    "            result = (result * base) % modulus\n",
    "        exp = exp // 2\n",
    "        base = (base * base) % modulus\n",
    "    return result\n",
    "\n",
    "def discrete_log(base, target, modulus):\n",
    "    M = int(modulus ** 0.5) + 1\n",
    "\n",
    "    # Baby-step phase\n",
    "    baby_steps = {}\n",
    "    for i in range(M):\n",
    "        baby_steps[mod_exp(base, i, modulus)] = i\n",
    "\n",
    "    # Giant-step phase\n",
    "    giant_step = mod_exp(base, M * (modulus - 2), modulus)  # 3^(-M)\n",
    "    for j in range(M):\n",
    "        value = (target * mod_exp(giant_step, j, modulus)) % modulus\n",
    "        if value in baby_steps:\n",
    "            return M * j + baby_steps[value]\n",
    "\n",
    "    return \n",
    "# Given equation: 40 = 3^XA mod 353\n",
    "base = 3\n",
    "target = 248\n",
    "modulus = 353\n",
    "\n",
    "# Finding XA\n",
    "X_A = discrete_log(base, target, modulus)\n",
    "print(\"XA =\", X_A)"
   ]
  },
  {
   "cell_type": "code",
   "execution_count": 23,
   "metadata": {},
   "outputs": [
    {
     "name": "stdout",
     "output_type": "stream",
     "text": [
      "The modular multiplicative inverse of 5 modulo 288 is: 173\n"
     ]
    }
   ],
   "source": [
    "def extended_gcd(a, b):\n",
    "    if a == 0:\n",
    "        return b, 0, 1\n",
    "    else:\n",
    "        gcd, x, y = extended_gcd(b % a, a)\n",
    "        return gcd, y - (b // a) * x, x\n",
    "\n",
    "def mod_inv(a, m):\n",
    "    gcd, x, _ = extended_gcd(a, m)\n",
    "    if gcd != 1:\n",
    "        raise ValueError('Modular inverse does not exist')\n",
    "    else:\n",
    "        return x % m\n",
    "\n",
    "# Given parameters\n",
    "e = 5\n",
    "phi_n = 288\n",
    "\n",
    "# Calculate modular multiplicative inverse of e modulo phi(n)\n",
    "d = mod_inv(e, phi_n)\n",
    "\n",
    "print(\"The modular multiplicative inverse of\", e, \"modulo\", phi_n, \"is:\", d)"
   ]
  }
 ],
 "metadata": {
  "kernelspec": {
   "display_name": "Python 3",
   "language": "python",
   "name": "python3"
  },
  "language_info": {
   "codemirror_mode": {
    "name": "ipython",
    "version": 3
   },
   "file_extension": ".py",
   "mimetype": "text/x-python",
   "name": "python",
   "nbconvert_exporter": "python",
   "pygments_lexer": "ipython3",
   "version": "3.11.2"
  }
 },
 "nbformat": 4,
 "nbformat_minor": 2
}
